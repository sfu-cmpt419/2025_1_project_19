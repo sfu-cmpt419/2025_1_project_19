{
 "cells": [
  {
   "cell_type": "markdown",
   "id": "98e08af3-d9ed-467b-afcf-e0ff13c2fed5",
   "metadata": {},
   "source": [
    "# Code for Running ITA skin classification"
   ]
  },
  {
   "cell_type": "code",
   "execution_count": 30,
   "id": "cc6b022d-9176-401c-a675-bcfad92bf81e",
   "metadata": {},
   "outputs": [],
   "source": [
    "import cv2 as cv # for inputting images\n",
    "import os # for file path specification\n",
    "\n",
    "# path to images\n",
    "base_path = '/Users/aryaman_bahuguna/Documents/Spring2025/CMPT419/project/2025_1_project_19/datasets/small-kaggle/Black/'\n",
    "\n",
    "# Read the image (in BGR format by default)\n",
    "sample_image = os.path.join(base_path, '1_1_1_20170109190848182.jpg.chip.jpg')\n",
    "img_bgr = cv.imread(sample_image)\n",
    "img_lab = cv.cvtColor(img_bgr, cv.COLOR_BGR2LAB) # convert to LAB\n",
    "\n",
    "# compute mean L* and b* over skin pixels only\n",
    "skin_mask = img_lab[:, :, 0] > 30  # Adjust threshold as needed\n",
    "l_mean = np.mean(img_lab[:, :, 0][skin_mask])\n",
    "b_mean = np.mean(img_lab[:, :, 2][skin_mask])"
   ]
  },
  {
   "cell_type": "code",
   "execution_count": 31,
   "id": "f12d6c3f-7cf3-45be-9bcc-57d9d310ea1b",
   "metadata": {},
   "outputs": [],
   "source": [
    "# cv.imshow('displaymywindows', img_lab)\n",
    "# cv.waitKey(0)   #wait for a keyboard input\n",
    "# cv.destroyAllWindows()"
   ]
  },
  {
   "cell_type": "code",
   "execution_count": 32,
   "id": "55cc20ab-b187-4055-ab91-e1ef41e7ec9d",
   "metadata": {},
   "outputs": [],
   "source": [
    "# for now, assume that the entire image is skin (it's a close-up potrait)"
   ]
  },
  {
   "cell_type": "code",
   "execution_count": 33,
   "id": "cd78448a-c69f-4249-80a7-5cae88490e72",
   "metadata": {},
   "outputs": [],
   "source": [
    "# sample skin pixels randomly and compute mean L* and b*\n",
    "import numpy as np\n",
    "\n",
    "# Reshape image to get pixels as rows\n",
    "pixels_lab = img_lab.reshape(-1, 3)\n",
    "\n",
    "# Optional: filter out background or non-skin pixels here\n",
    "\n",
    "# Compute mean L* and b* across the skin region\n",
    "l_mean = np.mean(img_lab[:, :, 0][skin_mask])\n",
    "b_mean = np.mean(img_lab[:, :, 2][skin_mask])\n"
   ]
  },
  {
   "cell_type": "code",
   "execution_count": 34,
   "id": "a6b90fa3-24dd-42fc-b796-6010eb8e7581",
   "metadata": {},
   "outputs": [
    {
     "name": "stdout",
     "output_type": "stream",
     "text": [
      "ITA = 28.489554515105855\n"
     ]
    }
   ],
   "source": [
    "# compute ITA\n",
    "epsilon = 1e-6  # Small value to avoid division by zero\n",
    "ita = np.arctan((l_mean - 50) / (b_mean + epsilon)) * (180 / np.pi)\n",
    "print(\"ITA =\", ita)"
   ]
  },
  {
   "cell_type": "code",
   "execution_count": 28,
   "id": "a071fc1b-53d0-4a3c-b859-36e728455d43",
   "metadata": {},
   "outputs": [],
   "source": [
    "from derm_ita import get_ita\n",
    "from PIL import Image\n",
    "whole_image_ita = get_ita(image=Image.open('image2.jpg'))"
   ]
  },
  {
   "cell_type": "code",
   "execution_count": 29,
   "id": "10cc7749-3a9d-464c-90c7-daf958d3a3fa",
   "metadata": {},
   "outputs": [
    {
     "data": {
      "text/plain": [
       "-28.891676663822324"
      ]
     },
     "execution_count": 29,
     "metadata": {},
     "output_type": "execute_result"
    }
   ],
   "source": [
    "whole_image_ita"
   ]
  },
  {
   "cell_type": "code",
   "execution_count": null,
   "id": "33144448-556a-48ae-816d-0590c4405722",
   "metadata": {},
   "outputs": [],
   "source": []
  }
 ],
 "metadata": {
  "kernelspec": {
   "display_name": "Python 3 (ipykernel)",
   "language": "python",
   "name": "python3"
  },
  "language_info": {
   "codemirror_mode": {
    "name": "ipython",
    "version": 3
   },
   "file_extension": ".py",
   "mimetype": "text/x-python",
   "name": "python",
   "nbconvert_exporter": "python",
   "pygments_lexer": "ipython3",
   "version": "3.11.5"
  }
 },
 "nbformat": 4,
 "nbformat_minor": 5
}
