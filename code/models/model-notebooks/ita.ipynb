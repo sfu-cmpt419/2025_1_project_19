{
 "cells": [
  {
   "cell_type": "markdown",
   "id": "98e08af3-d9ed-467b-afcf-e0ff13c2fed5",
   "metadata": {},
   "source": [
    "# Code for Running ITA skin classification"
   ]
  },
  {
   "cell_type": "code",
   "execution_count": 1,
   "id": "cc6b022d-9176-401c-a675-bcfad92bf81e",
   "metadata": {},
   "outputs": [
    {
     "name": "stdout",
     "output_type": "stream",
     "text": [
      "ITA = 28.489554515105855\n"
     ]
    }
   ],
   "source": [
    "import os\n",
    "import cv2 as cv\n",
    "import numpy as np\n",
    "import pandas as pd\n",
    "\n",
    "# path to images\n",
    "base_path = '/Users/aryaman_bahuguna/Documents/Spring2025/CMPT419/project/2025_1_project_19/datasets/small-kaggle/Black/'\n",
    "\n",
    "## READ: the image (in BGR format by default) & convert to LAB\n",
    "sample_image = os.path.join(base_path, '1_1_1_20170109190848182.jpg.chip.jpg')\n",
    "img_bgr = cv.imread(sample_image)\n",
    "img_lab = cv.cvtColor(img_bgr, cv.COLOR_BGR2LAB) # convert to LAB\n",
    "# cv.imshow('displaymywindows', img_lab)\n",
    "# cv.waitKey(0)   #wait for a keyboard input\n",
    "# cv.destroyAllWindows()\n",
    "\n",
    "## FILTER: out background or non-skin pixels here\n",
    "# compute mean L* and b* over skin pixels only\n",
    "skin_mask = img_lab[:, :, 0] > 30  # Adjust threshold as needed\n",
    "l_mean = np.mean(img_lab[:, :, 0][skin_mask])\n",
    "b_mean = np.mean(img_lab[:, :, 2][skin_mask])\n",
    "\n",
    "# Reshape image to get pixels as rows\n",
    "pixels_lab = img_lab.reshape(-1, 3)\n",
    "\n",
    "# Compute mean L* and b* across the skin region\n",
    "l_mean = np.mean(img_lab[:, :, 0][skin_mask])\n",
    "b_mean = np.mean(img_lab[:, :, 2][skin_mask])\n",
    "\n",
    "# COMPUTE: ITA\n",
    "epsilon = 1e-6  # Small value to avoid division by zero\n",
    "ita = np.arctan((l_mean - 50) / (b_mean + epsilon)) * (180 / np.pi)\n",
    "print(\"ITA =\", ita)"
   ]
  },
  {
   "cell_type": "code",
   "execution_count": 4,
   "id": "a071fc1b-53d0-4a3c-b859-36e728455d43",
   "metadata": {},
   "outputs": [
    {
     "name": "stdout",
     "output_type": "stream",
     "text": [
      "Successfull! ITA values saved to ita_results_black.csv\n"
     ]
    }
   ],
   "source": [
    "import os\n",
    "import cv2 as cv\n",
    "import numpy as np\n",
    "import pandas as pd\n",
    "\n",
    "# Path to the image directory & out directory\n",
    "base_path = '/Users/aryaman_bahuguna/Documents/Spring2025/CMPT419/project/2025_1_project_19/datasets/small-kaggle/Black/'\n",
    "out_path = '/Users/aryaman_bahuguna/Documents/Spring2025/CMPT419/project/2025_1_project_19/outputs/'\n",
    "\n",
    "# List all .jpg files in the folder\n",
    "image_files = [f for f in os.listdir(base_path) if f.endswith('.jpg')]\n",
    "\n",
    "# Store results here\n",
    "results = []\n",
    "\n",
    "# Loop through each image\n",
    "for filename in image_files:\n",
    "    try:\n",
    "        image_path = os.path.join(base_path, filename)\n",
    "        img_bgr = cv.imread(image_path)\n",
    "\n",
    "        if img_bgr is None:\n",
    "            print(f\"Warning: Unable to read {filename}\")\n",
    "            continue\n",
    "\n",
    "        img_lab = cv.cvtColor(img_bgr, cv.COLOR_BGR2LAB)\n",
    "\n",
    "        # Simple skin mask based on lightness\n",
    "        skin_mask = img_lab[:, :, 0] > 30\n",
    "\n",
    "        l_vals = img_lab[:, :, 0][skin_mask]\n",
    "        b_vals = img_lab[:, :, 2][skin_mask]\n",
    "\n",
    "        if len(l_vals) == 0 or len(b_vals) == 0:\n",
    "            print(f\"Warning: No skin pixels found in {filename}\")\n",
    "            continue\n",
    "\n",
    "        l_mean = np.mean(l_vals)\n",
    "        b_mean = np.mean(b_vals)\n",
    "\n",
    "        # Compute ITA\n",
    "        epsilon = 1e-6\n",
    "        ita = np.arctan((l_mean - 50) / (b_mean + epsilon)) * (180 / np.pi)\n",
    "\n",
    "        results.append({\n",
    "            'filename': filename,\n",
    "            'L*': l_mean,\n",
    "            'b*': b_mean,\n",
    "            'ITA': ita\n",
    "        })\n",
    "\n",
    "    except Exception as e:\n",
    "        print(f\"Error processing {filename}: {e}\")\n",
    "\n",
    "# Convert to DataFrame and save as CSV\n",
    "csv_path = os.path.join(out_path, 'ita-results-black.csv')\n",
    "df = pd.DataFrame(results)\n",
    "df.to_csv(csv_path, index=False)\n",
    "\n",
    "print(\"Successfull! ITA values saved to ita_results_black.csv\")\n"
   ]
  },
  {
   "cell_type": "code",
   "execution_count": null,
   "id": "10cc7749-3a9d-464c-90c7-daf958d3a3fa",
   "metadata": {},
   "outputs": [],
   "source": [
    "image_files"
   ]
  },
  {
   "cell_type": "code",
   "execution_count": null,
   "id": "33144448-556a-48ae-816d-0590c4405722",
   "metadata": {},
   "outputs": [],
   "source": []
  }
 ],
 "metadata": {
  "kernelspec": {
   "display_name": "Python 3 (ipykernel)",
   "language": "python",
   "name": "python3"
  },
  "language_info": {
   "codemirror_mode": {
    "name": "ipython",
    "version": 3
   },
   "file_extension": ".py",
   "mimetype": "text/x-python",
   "name": "python",
   "nbconvert_exporter": "python",
   "pygments_lexer": "ipython3",
   "version": "3.11.5"
  }
 },
 "nbformat": 4,
 "nbformat_minor": 5
}
